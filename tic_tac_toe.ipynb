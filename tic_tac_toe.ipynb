{
 "cells": [
  {
   "cell_type": "code",
   "execution_count": 1,
   "id": "94a4d06f",
   "metadata": {},
   "outputs": [
    {
     "ename": "NameError",
     "evalue": "name 'pd' is not defined",
     "output_type": "error",
     "traceback": [
      "\u001b[1;31m---------------------------------------------------------------------------\u001b[0m",
      "\u001b[1;31mNameError\u001b[0m                                 Traceback (most recent call last)",
      "\u001b[1;32m~\\AppData\\Local\\Temp\\ipykernel_19316\\26193472.py\u001b[0m in \u001b[0;36m<module>\u001b[1;34m\u001b[0m\n\u001b[1;32m----> 1\u001b[1;33m \u001b[0mpd\u001b[0m\u001b[1;33m\u001b[0m\u001b[1;33m\u001b[0m\u001b[0m\n\u001b[0m",
      "\u001b[1;31mNameError\u001b[0m: name 'pd' is not defined"
     ]
    }
   ],
   "source": [
    "pd"
   ]
  },
  {
   "cell_type": "code",
   "execution_count": 2,
   "id": "6972b062",
   "metadata": {},
   "outputs": [
    {
     "data": {
      "text/plain": [
       "'C:\\\\Users\\\\Manjuprasad\\\\Desktop\\\\git_hub'"
      ]
     },
     "execution_count": 2,
     "metadata": {},
     "output_type": "execute_result"
    }
   ],
   "source": [
    "pwd"
   ]
  },
  {
   "cell_type": "markdown",
   "id": "4eb3dffb",
   "metadata": {},
   "source": [
    "IPython.display.clear_output \n",
    "  clear_output()              : *  to clear the output of a cell.(only ork in jupyter)\n",
    "    \n",
    "ipython :  * interactive python A powerful interactive shell.\n",
    "           * A kernel for Jupyter.\n",
    "           * Support for interactive data visualization and use of GUI toolkits.\n",
    "                                        \n",
    "          (board--parameter, test_board--list)\n",
    "         step1: create board\n",
    "                diplay values in board"
   ]
  },
  {
   "cell_type": "code",
   "execution_count": 3,
   "id": "b813609e",
   "metadata": {},
   "outputs": [],
   "source": [
    "from IPython.display import clear_output\n",
    "\n",
    "def mydisplay_board(board):\n",
    "    clear_output()\n",
    "    \n",
    "    print(''+ board[7] + ' | ' + board[8] + '  | ' + board[9])\n",
    "    print('---------- ')\n",
    "    print(''+ board[4] + ' | ' + board[5] + '  | ' + board[6])\n",
    "    print('----------')\n",
    "    print(''+ board[1] + ' | ' + board[2] + '  | ' + board[3])"
   ]
  },
  {
   "cell_type": "code",
   "execution_count": 4,
   "id": "9c452d28",
   "metadata": {},
   "outputs": [
    {
     "name": "stdout",
     "output_type": "stream",
     "text": [
      "x | x  | x\n",
      "---------- \n",
      "o | o  | o\n",
      "----------\n",
      "o | x  | x\n"
     ]
    }
   ],
   "source": [
    "test_borad = ['#','o','x','x','o','o','o','x','x','x']\n",
    "mydisplay_board(test_borad)\n"
   ]
  },
  {
   "cell_type": "markdown",
   "id": "26800d08",
   "metadata": {},
   "source": [
    "step2: taking  user inputs----we use player_input(): \n",
    "step3:  now assign x or o in respected position by user  "
   ]
  },
  {
   "cell_type": "code",
   "execution_count": 5,
   "id": "11b9f837",
   "metadata": {},
   "outputs": [],
   "source": [
    "def player_input():\n",
    "    mark = ''\n",
    "    while  not ( mark == 'x' or mark =='o' ):\n",
    "        mark = input('player 1: choose x or o : ' )\n",
    "    if mark == 'x':\n",
    "        return ('x', 'o') #  if player1 = x then player2 : o\n",
    "    \n",
    "    else:\n",
    "        return ('o','x')\n",
    "    "
   ]
  },
  {
   "cell_type": "code",
   "execution_count": 8,
   "id": "b6df7097",
   "metadata": {},
   "outputs": [
    {
     "name": "stdout",
     "output_type": "stream",
     "text": [
      "player 1: choose x or o : o\n"
     ]
    },
    {
     "data": {
      "text/plain": [
       "('o', 'x')"
      ]
     },
     "execution_count": 8,
     "metadata": {},
     "output_type": "execute_result"
    }
   ],
   "source": [
    "player_input()"
   ]
  },
  {
   "cell_type": "code",
   "execution_count": 9,
   "id": "c6c06fb3",
   "metadata": {},
   "outputs": [
    {
     "name": "stdout",
     "output_type": "stream",
     "text": [
      "x | x  | x\n",
      "---------- \n",
      "o | o  | o\n",
      "----------\n",
      "o | $  | x\n"
     ]
    }
   ],
   "source": [
    "def mark_position(board, mark, position ):\n",
    "    board[position] = mark\n",
    "\n",
    "mark_position(test_borad, '$', 2)\n",
    "mydisplay_board(test_borad)"
   ]
  },
  {
   "cell_type": "markdown",
   "id": "a2c66d04",
   "metadata": {},
   "source": [
    "step 4: write logic to win  \n",
    "       in tic toc tac  total possibilities to win 3 stright,3downs,2diagonals\n",
    "step 5: generate random function to randomly which player has to play    \n",
    "       random.randint()\n",
    "        randint(start,stop) = selects a number from given range"
   ]
  },
  {
   "cell_type": "code",
   "execution_count": 10,
   "id": "20cf22a2",
   "metadata": {},
   "outputs": [
    {
     "data": {
      "text/plain": [
       "True"
      ]
     },
     "execution_count": 10,
     "metadata": {},
     "output_type": "execute_result"
    }
   ],
   "source": [
    "def win_check(board,mark):\n",
    "    return ((board[7] == mark and board[8] == mark and board[9] == mark) or # stright\n",
    "        (board[4] == mark and board[5] == mark and board[6] == mark) or # stright\n",
    "        (board[1] == mark and board[2] == mark and board[3] == mark) or # stright\n",
    "        (board[7] == mark and board[4] == mark and board[1] == mark) or # down \n",
    "        (board[8] == mark and board[5] == mark and board[2] == mark) or # down \n",
    "        (board[9] == mark and board[6] == mark and board[3] == mark) or # down \n",
    "        (board[7] == mark and board[5] == mark and board[3] == mark) or # diagonal\n",
    "        (board[9] == mark and board[5] == mark and board[1] == mark)) #diagonal\n",
    "        \n",
    "win_check(test_borad,'x')       "
   ]
  },
  {
   "cell_type": "code",
   "execution_count": 11,
   "id": "10a5df1f",
   "metadata": {},
   "outputs": [],
   "source": [
    "import random\n",
    "def choose_first():\n",
    "    if random.randint(0, 1) == 0:\n",
    "        return 'player 2'\n",
    "    else:\n",
    "        return 'player 1'"
   ]
  },
  {
   "cell_type": "markdown",
   "id": "70bd005c",
   "metadata": {},
   "source": [
    "step 6: check a priticual position is empty or filled\n",
    "step 7: if board is full return true   "
   ]
  },
  {
   "cell_type": "code",
   "execution_count": 12,
   "id": "1bfcf4df",
   "metadata": {},
   "outputs": [],
   "source": [
    "def space_check(board, position):\n",
    "    return board[position] == ' '"
   ]
  },
  {
   "cell_type": "code",
   "execution_count": 13,
   "id": "5113e9e2",
   "metadata": {},
   "outputs": [],
   "source": [
    "def full_board_check(board):\n",
    "    for i in range(1,10):\n",
    "        \n",
    "        if space_check(board, i):\n",
    "            return False\n",
    "        \n",
    "    return True"
   ]
  },
  {
   "cell_type": "markdown",
   "id": "ed37a5a0",
   "metadata": {},
   "source": [
    "step 8: Write a function that asks for a player's next position (as a number 1-9) \n",
    "    \n",
    "       then repeat from step 6 to check if its a free position.\n",
    "        return the position for later use.\n",
    "step 9: ask player to play again,if yes boolean true.    "
   ]
  },
  {
   "cell_type": "code",
   "execution_count": 14,
   "id": "932a0dce",
   "metadata": {},
   "outputs": [],
   "source": [
    "def player_choice(board):\n",
    "    position = 0\n",
    "    \n",
    "    while position not in [1,2,3,4,5,6,7,8,9] or not space_check(board, position):\n",
    "        position = int(input('Choose your next position: (1-9) '))\n",
    "    return position                                                            "
   ]
  },
  {
   "cell_type": "code",
   "execution_count": 15,
   "id": "fa7af658",
   "metadata": {},
   "outputs": [],
   "source": [
    "def replay():\n",
    "    return input('want to play again? enter y or n')"
   ]
  },
  {
   "cell_type": "markdown",
   "id": "f778ec4a",
   "metadata": {},
   "source": [
    "step10: run the game"
   ]
  },
  {
   "cell_type": "code",
   "execution_count": null,
   "id": "3c38cbf4",
   "metadata": {
    "scrolled": true
   },
   "outputs": [
    {
     "name": "stdout",
     "output_type": "stream",
     "text": [
      "x | o  | x\n",
      "---------- \n",
      "x | o  | o\n",
      "----------\n",
      "o | x  | o\n",
      "the draw\n"
     ]
    }
   ],
   "source": [
    "print(\"-----welecome to tic tac toe---\")\n",
    "while True:  \n",
    "    #reset board\n",
    "    theboard = [' '] * 10\n",
    "    player1_mark, player2_mark = player_input()\n",
    "    turn = choose_first()\n",
    "    print(turn +'will take lead')\n",
    "    \n",
    "    game_play = input('are you willing to play ,if yes enter y or no n')\n",
    "    if game_play =='y':\n",
    "        game_on= True\n",
    "    else:\n",
    "        game_on= False\n",
    "        \n",
    "    while game_on:      #player 1 turn\n",
    "        if turn == 'player 1':\n",
    "            mydisplay_board(theboard)\n",
    "            position = player_choice(theboard) \n",
    "            mark_position(theboard, player1_mark, position)\n",
    "            \n",
    "            if win_check(theboard,player1_mark):\n",
    "                mydisplay_board(theboard)\n",
    "                print('you won...')\n",
    "                game_on = False\n",
    "            else:\n",
    "                if full_board_check(theboard):\n",
    "                    mydisplay_board(theboard)\n",
    "                    print('the draw')\n",
    "                    break\n",
    "                else:\n",
    "                    turn = 'player 2'\n",
    "                    \n",
    "        else:  \n",
    "            #player2 turn\n",
    "            mydisplay_board(theboard)\n",
    "            position = player_choice(theboard) \n",
    "            mark_position(theboard, player2_mark, position)\n",
    "            \n",
    "            if win_check(theboard,player2_mark):\n",
    "                mydisplay_board(theboard)\n",
    "                print('you won...')\n",
    "                game_on = False\n",
    "            else:\n",
    "                if full_board_check(theboard):\n",
    "                    mydisplay_board(theboard)\n",
    "                    print('the draw')\n",
    "                    break\n",
    "                else:\n",
    "                    turn = 'player 1' \n",
    "                    \n",
    "                    \n",
    "    if not replay():\n",
    "        break\n",
    "                 "
   ]
  },
  {
   "cell_type": "code",
   "execution_count": null,
   "id": "6631956d",
   "metadata": {},
   "outputs": [],
   "source": []
  },
  {
   "cell_type": "code",
   "execution_count": null,
   "id": "95de8cdf",
   "metadata": {},
   "outputs": [],
   "source": []
  },
  {
   "cell_type": "code",
   "execution_count": null,
   "id": "6535edee",
   "metadata": {},
   "outputs": [],
   "source": []
  }
 ],
 "metadata": {
  "kernelspec": {
   "display_name": "Python 3 (ipykernel)",
   "language": "python",
   "name": "python3"
  },
  "language_info": {
   "codemirror_mode": {
    "name": "ipython",
    "version": 3
   },
   "file_extension": ".py",
   "mimetype": "text/x-python",
   "name": "python",
   "nbconvert_exporter": "python",
   "pygments_lexer": "ipython3",
   "version": "3.9.13"
  }
 },
 "nbformat": 4,
 "nbformat_minor": 5
}
